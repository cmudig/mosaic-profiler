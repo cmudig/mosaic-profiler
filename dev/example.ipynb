{
 "cells": [
  {
   "cell_type": "code",
   "execution_count": 9,
   "id": "93103597-996b-46ec-9804-63164b775896",
   "metadata": {
    "tags": []
   },
   "outputs": [],
   "source": [
    "import pandas as pd\n",
    "import duckdb as db\n",
    "from mosaic_profiler_widget import MosaicProfilerWidget"
   ]
  },
  {
   "cell_type": "code",
   "execution_count": 10,
   "id": "b9e258cc-0f45-471f-8fb6-778e9724be3a",
   "metadata": {},
   "outputs": [],
   "source": [
    "con = db.connect()"
   ]
  },
  {
   "cell_type": "code",
   "execution_count": 13,
   "id": "4da7f0fd-ec48-4ca9-b927-cbf9b0a5d8b8",
   "metadata": {
    "tags": []
   },
   "outputs": [
    {
     "data": {
      "application/vnd.jupyter.widget-view+json": {
       "model_id": "add23bf194524560aadfde6cbee6606b",
       "version_major": 2,
       "version_minor": 1
      },
      "text/plain": [
       "MosaicProfilerWidget(id='41cd8d17cc7e4734ae2da73e36b6db39')"
      ]
     },
     "execution_count": 13,
     "metadata": {},
     "output_type": "execute_result"
    }
   ],
   "source": [
    "athletes = pd.read_csv(\"athletes.csv\")\n",
    "w = MosaicProfilerWidget(athletes, con)\n",
    "w"
   ]
  },
  {
   "cell_type": "code",
   "execution_count": 14,
   "id": "dda2d850-a8bd-4312-96e3-6935919b7d8b",
   "metadata": {},
   "outputs": [
    {
     "data": {
      "application/vnd.jupyter.widget-view+json": {
       "model_id": "1e6f22f6382344099d79e1dbb6099731",
       "version_major": 2,
       "version_minor": 1
      },
      "text/plain": [
       "MosaicProfilerWidget(id='17262b99a4a04289a6e8c18050b72f0b')"
      ]
     },
     "execution_count": 14,
     "metadata": {},
     "output_type": "execute_result"
    }
   ],
   "source": [
    "MosaicProfilerWidget(\"https://raw.githubusercontent.com/datasets/gdp/master/data/gdp.csv\", con)\n"
   ]
  }
 ],
 "metadata": {
  "kernelspec": {
   "display_name": "Python 3 (ipykernel)",
   "language": "python",
   "name": "python3"
  },
  "language_info": {
   "codemirror_mode": {
    "name": "ipython",
    "version": 3
   },
   "file_extension": ".py",
   "mimetype": "text/x-python",
   "name": "python",
   "nbconvert_exporter": "python",
   "pygments_lexer": "ipython3",
   "version": "3.11.9"
  }
 },
 "nbformat": 4,
 "nbformat_minor": 5
}
