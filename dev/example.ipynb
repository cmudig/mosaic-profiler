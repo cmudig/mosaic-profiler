{
 "cells": [
  {
   "cell_type": "code",
   "execution_count": 1,
   "id": "93103597-996b-46ec-9804-63164b775896",
   "metadata": {
    "tags": []
   },
   "outputs": [],
   "source": [
    "import pandas as pd\n",
    "from mosaic_profiler_widget import MosaicProfilerWidget"
   ]
  },
  {
   "cell_type": "code",
   "execution_count": 2,
   "id": "4da7f0fd-ec48-4ca9-b927-cbf9b0a5d8b8",
   "metadata": {
    "tags": []
   },
   "outputs": [
    {
     "data": {
      "application/vnd.jupyter.widget-view+json": {
       "model_id": "b8223f68c8f843fabb4b9dc5aa0a53c6",
       "version_major": 2,
       "version_minor": 1
      },
      "text/plain": [
       "MosaicProfilerWidget(dataframe_csv='id,name,nationality,sex,date_of_birth,height,weight,sport,gold,silver,bron…"
      ]
     },
     "execution_count": 2,
     "metadata": {},
     "output_type": "execute_result"
    }
   ],
   "source": [
    "athletes = pd.read_csv(\"athletes.csv\")\n",
    "MosaicProfilerWidget(athletes)"
   ]
  },
  {
   "cell_type": "code",
   "execution_count": null,
   "id": "dda2d850-a8bd-4312-96e3-6935919b7d8b",
   "metadata": {},
   "outputs": [],
   "source": []
  }
 ],
 "metadata": {
  "kernelspec": {
   "display_name": "Python 3 (ipykernel)",
   "language": "python",
   "name": "python3"
  },
  "language_info": {
   "codemirror_mode": {
    "name": "ipython",
    "version": 3
   },
   "file_extension": ".py",
   "mimetype": "text/x-python",
   "name": "python",
   "nbconvert_exporter": "python",
   "pygments_lexer": "ipython3",
   "version": "3.11.9"
  }
 },
 "nbformat": 4,
 "nbformat_minor": 5
}
