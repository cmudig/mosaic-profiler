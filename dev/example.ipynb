{
 "cells": [
  {
   "cell_type": "code",
   "execution_count": 9,
   "id": "93103597-996b-46ec-9804-63164b775896",
   "metadata": {
    "tags": []
   },
   "outputs": [],
   "source": [
    "import pandas as pd\n",
    "import duckdb as db\n",
    "from mosaic_profiler_widget import MosaicProfilerWidget"
   ]
  },
  {
   "cell_type": "code",
   "execution_count": 2,
   "id": "b9e258cc-0f45-471f-8fb6-778e9724be3a",
   "metadata": {},
   "outputs": [],
   "source": [
    "con = db.connect()"
   ]
  },
  {
   "cell_type": "code",
   "execution_count": 3,
   "id": "4da7f0fd-ec48-4ca9-b927-cbf9b0a5d8b8",
   "metadata": {
    "tags": []
   },
   "outputs": [
    {
     "data": {
      "application/vnd.jupyter.widget-view+json": {
       "model_id": "2da5caa9c1074fe39f19cff34f9911a1",
       "version_major": 2,
       "version_minor": 1
      },
      "text/plain": [
       "MosaicProfilerWidget(id='5b9905e3010d4f668d919b1c9dcb2eec')"
      ]
     },
     "execution_count": 3,
     "metadata": {},
     "output_type": "execute_result"
    }
   ],
   "source": [
    "athletes = pd.read_csv(\"athletes.csv\", parse_dates=['date_of_birth'])\n",
    "w = MosaicProfilerWidget(athletes, con)\n",
    "w"
   ]
  },
  {
   "cell_type": "code",
   "execution_count": 4,
   "id": "dda2d850-a8bd-4312-96e3-6935919b7d8b",
   "metadata": {},
   "outputs": [
    {
     "data": {
      "application/vnd.jupyter.widget-view+json": {
       "model_id": "578c021b5240489f89b73eb3cdd968d2",
       "version_major": 2,
       "version_minor": 1
      },
      "text/plain": [
       "MosaicProfilerWidget(id='5b9c438d6272437c9c72d737bae411e4')"
      ]
     },
     "execution_count": 4,
     "metadata": {},
     "output_type": "execute_result"
    }
   ],
   "source": [
    "MosaicProfilerWidget(\"https://raw.githubusercontent.com/datasets/gdp/master/data/gdp.csv\", con)\n"
   ]
  },
  {
   "cell_type": "code",
   "execution_count": null,
   "id": "cc48cde2-d509-4433-bb7a-2c7d70866f5d",
   "metadata": {},
   "outputs": [
    {
     "data": {
      "application/vnd.jupyter.widget-view+json": {
       "model_id": "1e6f22f6382344099d79e1dbb6099731",
       "version_major": 2,
       "version_minor": 1
      },
      "text/plain": [
       "MosaicProfilerWidget(id='17262b99a4a04289a6e8c18050b72f0b')"
      ]
     },
     "execution_count": 14,
     "metadata": {},
     "output_type": "execute_result"
    }
   ],
   "source": [
    "MosaicProfilerWidget(\"https://raw.githubusercontent.com/datasets/gdp/master/data/gdp.csv\", con)\n"
   ]
  }
 ],
 "metadata": {
  "kernelspec": {
   "display_name": "Python 3 (ipykernel)",
   "language": "python",
   "name": "python3"
  },
  "language_info": {
   "codemirror_mode": {
    "name": "ipython",
    "version": 3
   },
   "file_extension": ".py",
   "mimetype": "text/x-python",
   "name": "python",
   "nbconvert_exporter": "python",
   "pygments_lexer": "ipython3",
   "version": "3.11.9"
  }
 },
 "nbformat": 4,
 "nbformat_minor": 5
}
